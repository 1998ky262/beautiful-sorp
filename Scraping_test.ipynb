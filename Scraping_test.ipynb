{
  "nbformat": 4,
  "nbformat_minor": 0,
  "metadata": {
    "colab": {
      "provenance": [],
      "authorship_tag": "ABX9TyPpx+LIdOlp8/zIVazROucQ",
      "include_colab_link": true
    },
    "kernelspec": {
      "name": "python3",
      "display_name": "Python 3"
    },
    "language_info": {
      "name": "python"
    }
  },
  "cells": [
    {
      "cell_type": "markdown",
      "metadata": {
        "id": "view-in-github",
        "colab_type": "text"
      },
      "source": [
        "<a href=\"https://colab.research.google.com/github/1998ky262/beautiful-sorp/blob/main/Scraping_test.ipynb\" target=\"_parent\"><img src=\"https://colab.research.google.com/assets/colab-badge.svg\" alt=\"Open In Colab\"/></a>"
      ]
    },
    {
      "cell_type": "code",
      "execution_count": 15,
      "metadata": {
        "id": "DigQ7S-xo03P",
        "colab": {
          "base_uri": "https://localhost:8080/"
        },
        "outputId": "40656728-aafa-4415-eda1-72e0db62996d"
      },
      "outputs": [
        {
          "output_type": "stream",
          "name": "stdout",
          "text": [
            "Example Domain\n"
          ]
        }
      ],
      "source": [
        "import requests\n",
        "from bs4 import BeautifulSoup\n",
        "url = \"https://example.com\"\n",
        "r = requests.get(url)\n",
        "sorp = BeautifulSoup(r.content,\"html.parser\")\n",
        "sorp = sorp.select(\"title\")\n",
        "print(sorp[0].text)"
      ]
    }
  ]
}